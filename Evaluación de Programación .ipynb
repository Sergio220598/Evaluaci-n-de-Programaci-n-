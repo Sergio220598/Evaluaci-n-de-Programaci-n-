{
 "cells": [
  {
   "cell_type": "code",
   "execution_count": 44,
   "metadata": {},
   "outputs": [
    {
     "data": {
      "text/plain": [
       "-54321"
      ]
     },
     "execution_count": 44,
     "metadata": {},
     "output_type": "execute_result"
    }
   ],
   "source": [
    "#1.\n",
    "def entero(num):\n",
    "    if num>=0:\n",
    "        num=str(num)\n",
    "        num=num[::-1]\n",
    "    else:\n",
    "        num=str(num)\n",
    "        num='-'+num[::-1]\n",
    "        num=num[0:len(num)-1]\n",
    "    return int(num)\n",
    "\n",
    "entero(-12345)"
   ]
  },
  {
   "cell_type": "code",
   "execution_count": 71,
   "metadata": {},
   "outputs": [
    {
     "data": {
      "text/plain": [
       "6.166666666666667"
      ]
     },
     "execution_count": 71,
     "metadata": {},
     "output_type": "execute_result"
    }
   ],
   "source": [
    "#2.\n",
    "import string\n",
    "def long_palabras(cad):\n",
    "    punct = string.punctuation\n",
    "    for c in punct:\n",
    "        cad = cad.replace(c, \" \")\n",
    "    cad=cad.split(\" \")\n",
    "    prom=0\n",
    "    for var in cad:\n",
    "        prom+=len(var)\n",
    "    prom=prom/len(cad)\n",
    "    return prom\n",
    "\n",
    "\n",
    "cad=\"Hola,estoy haciendo una evaluacion.Gracias\"\n",
    "long_palabras(cad)"
   ]
  },
  {
   "cell_type": "code",
   "execution_count": null,
   "metadata": {},
   "outputs": [],
   "source": [
    "#3."
   ]
  },
  {
   "cell_type": "code",
   "execution_count": 133,
   "metadata": {},
   "outputs": [
    {
     "name": "stdout",
     "output_type": "stream",
     "text": [
      "z\n",
      "-1\n"
     ]
    }
   ],
   "source": [
    "#4.\n",
    "def no_repetido(cad):\n",
    "    cad=cad.lower()\n",
    "    dic = {}\n",
    "\n",
    "    for var in cad:\n",
    "        if var in dic:\n",
    "            dic[var] += 1\n",
    "        else:\n",
    "            dic[var] = 1\n",
    "    \n",
    "    for var in dic.keys():\n",
    "        if dic[var] == 1:\n",
    "            return var\n",
    "        else:\n",
    "            return -1\n",
    "\n",
    "\n",
    "texto = \"ZHola,estoy haciendo una evaluacion.Gracias\"\n",
    "print(no_repetido(texto))\n",
    "\n",
    "texto = \"Hola,estoy haciendo una evaluacion.Gracias\"\n",
    "print(no_repetido(texto))"
   ]
  },
  {
   "cell_type": "code",
   "execution_count": 183,
   "metadata": {},
   "outputs": [
    {
     "name": "stdout",
     "output_type": "stream",
     "text": [
      "Ingrese palabra: radkar\n",
      "Ingrese caracter a eliminar: r\n",
      "adkar\n",
      "No puede ser Palindroma\n"
     ]
    }
   ],
   "source": [
    "#5.\n",
    "def busqueda_palindroma(cad):\n",
    "    cad = input(\"Ingrese palabra: \")\n",
    "    cad=cad.lower()\n",
    "    letra=input(\"Ingrese caracter a eliminar: \")\n",
    "    lista=[]\n",
    "    for var in cad:\n",
    "        lista.append(var)\n",
    "    lista.remove(letra)\n",
    "    cad= \"\".join(lista)\n",
    "    print(cad)\n",
    "\n",
    "    if str(cad) == str(cad)[::-1] :\n",
    "        print(\"Si puede ser Palindroma\")\n",
    "    else:\n",
    "        print(\"No puede ser Palindroma\")\n",
    "\n",
    "\n",
    "busqueda_palindroma(cad)"
   ]
  },
  {
   "cell_type": "code",
   "execution_count": 80,
   "metadata": {},
   "outputs": [
    {
     "data": {
      "text/plain": [
       "False"
      ]
     },
     "execution_count": 80,
     "metadata": {},
     "output_type": "execute_result"
    }
   ],
   "source": [
    "#6.\n",
    "def monotona(matriz):\n",
    "    return (all(matriz[i] <= matriz[i + 1] for i in range(len(matriz) - 1)) or\n",
    "            all(matriz[i] >= matriz[i + 1] for i in range(len(matriz) - 1)))\n",
    "\n",
    "matriz = [8, 4, 10, 10]\n",
    "monotona(matriz)"
   ]
  },
  {
   "cell_type": "code",
   "execution_count": 95,
   "metadata": {},
   "outputs": [
    {
     "data": {
      "text/plain": [
       "[1, 2, 3, 4, 5, 0, 0, 0, 0, 0, 0]"
      ]
     },
     "execution_count": 95,
     "metadata": {},
     "output_type": "execute_result"
    }
   ],
   "source": [
    "#7.\n",
    "matriz=[1,0,2,0,3,0,4,0,0,5]\n",
    "\n",
    "def matriz_cero(matriz):\n",
    "    cont=0\n",
    "    num=[]\n",
    "    for var in matriz:\n",
    "        if var==0:\n",
    "            cont=cont+1\n",
    "        else:\n",
    "            num.append(var)\n",
    "\n",
    "    for i in range(cont+1):\n",
    "        num.append(0)\n",
    "    return num\n",
    "\n",
    "matriz_cero(matriz)"
   ]
  },
  {
   "cell_type": "code",
   "execution_count": null,
   "metadata": {},
   "outputs": [],
   "source": [
    "#8."
   ]
  },
  {
   "cell_type": "code",
   "execution_count": 208,
   "metadata": {},
   "outputs": [
    {
     "name": "stdout",
     "output_type": "stream",
     "text": [
      "iguales: ['estoy', 'una', 'evaluacion', 'gracias']\n",
      "diferentes: ['hola', 'hola', 'hola', 'hola', 'hola', 'estoy', 'estoy', 'estoy', 'estoy', 'haciendo', 'haciendo', 'haciendo', 'haciendo', 'haciendo', 'una', 'una', 'una', 'una', 'evaluacion', 'evaluacion', 'evaluacion', 'evaluacion', 'gracias', 'gracias', 'gracias', 'gracias']\n"
     ]
    }
   ],
   "source": [
    "#9.\n",
    "cad1='Hola estoy haciendo una evaluacion Gracias'\n",
    "cad2='Estoy en una evaluacion Gracias'\n",
    "\n",
    "def comparar_oraciones(cad1,cad2):\n",
    "    cad1=cad1.lower()\n",
    "    cad2=cad2.lower()\n",
    "    matriz_si=[]\n",
    "    matriz_no=[]\n",
    "\n",
    "    cad1=cad1.split()\n",
    "    cad1\n",
    "\n",
    "    cad2=cad2.split()\n",
    "    cad2\n",
    "\n",
    "    for i in cad1:\n",
    "        for j in cad2:\n",
    "            if(i==j):\n",
    "                matriz_si.append(i)\n",
    "            else:\n",
    "                matriz_no.append(i)\n",
    "    print(\"iguales:\", matriz_si)\n",
    "    print(\"diferentes:\",matriz_no)\n",
    "    \n",
    "comparar_oraciones(cad1,cad2)"
   ]
  },
  {
   "cell_type": "code",
   "execution_count": 77,
   "metadata": {},
   "outputs": [
    {
     "name": "stdout",
     "output_type": "stream",
     "text": [
      "11\n",
      "13\n",
      "17\n",
      "19\n",
      "23\n",
      "29\n"
     ]
    }
   ],
   "source": [
    "#10.\n",
    "n=9\n",
    "k=30\n",
    "def primos(n,k):\n",
    "    for i in range(n, k+1): \n",
    "        if i>1: \n",
    "            for j in range(2,i): \n",
    "                if(i % j==0): \n",
    "                    break\n",
    "            else: \n",
    "                print(i)\n",
    "primos(n,k)"
   ]
  }
 ],
 "metadata": {
  "kernelspec": {
   "display_name": "Python 3",
   "language": "python",
   "name": "python3"
  },
  "language_info": {
   "codemirror_mode": {
    "name": "ipython",
    "version": 3
   },
   "file_extension": ".py",
   "mimetype": "text/x-python",
   "name": "python",
   "nbconvert_exporter": "python",
   "pygments_lexer": "ipython3",
   "version": "3.8.5"
  }
 },
 "nbformat": 4,
 "nbformat_minor": 4
}
